{
 "cells": [
  {
   "cell_type": "code",
   "execution_count": 84,
   "id": "0bfd83c1-3c90-4025-bac1-d87eee704867",
   "metadata": {
    "tags": []
   },
   "outputs": [],
   "source": [
    "#! pip install -r requirements.txt"
   ]
  },
  {
   "cell_type": "code",
   "execution_count": 87,
   "id": "5809dfb5-6689-4d7d-aea9-41d2d3881123",
   "metadata": {
    "tags": []
   },
   "outputs": [],
   "source": [
    "import re\n",
    "from dotenv import load_dotenv\n",
    "import streamlit as st\n",
    "from PyPDF2 import PdfReader\n",
    "from langchain.text_splitter import CharacterTextSplitter\n",
    "from langchain.embeddings import VertexAIEmbeddings\n",
    "from langchain.vectorstores import FAISS\n",
    "from langchain.chains.question_answering import load_qa_chain\n",
    "from langchain import PromptTemplate\n",
    "from langchain.llms import VertexAI\n",
    "from langchain.callbacks import get_openai_callback\n",
    "from langchain.callbacks import context_callback\n",
    "from google.cloud import aiplatform\n",
    "\n",
    "load_dotenv()\n",
    "\n",
    "aiplatform.init(project=\"vntg-mlops\", location=\"us-west1\")"
   ]
  },
  {
   "cell_type": "code",
   "execution_count": 48,
   "id": "e2563d77-84b5-4bef-ae51-eaa12d4bfaa9",
   "metadata": {
    "tags": []
   },
   "outputs": [
    {
     "name": "stdout",
     "output_type": "stream",
     "text": [
      "Collecting faiss-cpu\n",
      "  Downloading faiss_cpu-1.7.4-cp311-cp311-manylinux_2_17_aarch64.manylinux2014_aarch64.whl (3.2 MB)\n",
      "\u001b[2K     \u001b[90m━━━━━━━━━━━━━━━━━━━━━━━━━━━━━━━━━━━━━━━━\u001b[0m \u001b[32m3.2/3.2 MB\u001b[0m \u001b[31m2.2 MB/s\u001b[0m eta \u001b[36m0:00:00\u001b[0m00:01\u001b[0m00:01\u001b[0m\n",
      "\u001b[?25h\u001b[33mDEPRECATION: textract 1.6.5 has a non-standard dependency specifier extract-msg<=0.29.*. pip 23.3 will enforce this behaviour change. A possible replacement is to upgrade to a newer version of textract or contact the author to suggest that they release a version with a conforming dependency specifiers. Discussion can be found at https://github.com/pypa/pip/issues/12063\u001b[0m\u001b[33m\n",
      "\u001b[0mInstalling collected packages: faiss-cpu\n",
      "Successfully installed faiss-cpu-1.7.4\n"
     ]
    }
   ],
   "source": [
    "!pip install faiss-cpu"
   ]
  },
  {
   "cell_type": "code",
   "execution_count": 92,
   "id": "d8118837-139e-46a7-b7f5-6601b4b1ddbe",
   "metadata": {
    "tags": []
   },
   "outputs": [],
   "source": [
    "path = \"temp/HANBIT_Google_Cloud_Platform.pdf\"\n",
    "pdf_reader = PdfReader(path)\n",
    "text = \"\"\n",
    "for page in pdf_reader.pages:\n",
    "    text += page.extract_text()\n",
    "\n",
    "text = re.sub('[^가-힝0-9a-zA-Z\\\\s\\(\\)\\.\\:\\/]', '', text)\n",
    "text = text.replace(\"\\r\",\"\")\n",
    "text = re.sub('\\n[0-9]*\\n','',text)\n"
   ]
  },
  {
   "cell_type": "code",
   "execution_count": 93,
   "id": "2df8400f-477e-4d37-ba4e-9d42c4cbaf78",
   "metadata": {
    "tags": []
   },
   "outputs": [
    {
     "data": {
      "text/plain": [
       "87795"
      ]
     },
     "execution_count": 93,
     "metadata": {},
     "output_type": "execute_result"
    }
   ],
   "source": [
    "len(text)"
   ]
  },
  {
   "cell_type": "code",
   "execution_count": 94,
   "id": "2847f1a6-cd35-483f-95f5-9860d1f68365",
   "metadata": {
    "tags": []
   },
   "outputs": [],
   "source": [
    "text_splitter = CharacterTextSplitter(\n",
    "    separator=\"\\n\",\n",
    "    chunk_size=1000,\n",
    "    chunk_overlap=200,\n",
    "    length_function=len\n",
    ")\n",
    "\n",
    "chunks = text_splitter.split_text(text)"
   ]
  },
  {
   "cell_type": "code",
   "execution_count": 95,
   "id": "7a60d76a-8804-408d-82e0-c8a2705768ca",
   "metadata": {
    "tags": []
   },
   "outputs": [
    {
     "data": {
      "text/plain": [
       "'되었으면 좋겠다.\\n최유석\\n클라우드 서비스의 춘추 전국 시대라고 해도 과언이 아닐 정도로 많은 클라우드 서비\\n스들이 생겨나고 있다. 하지만 서비스마다 사용법이 다르고 기존 IDC에서의 아키텍\\n처 구성과는 많은 부분이 다르기에 클라우드를 처음 접하는 이들에게는 많은 부분이 \\nIT 개발자를 위한 전자책 리얼타임 eBook(www.hanbit.co.kr)\\n생소하고 어려울 수 있을 것이다. 내가 클라우드 서비스를 이용하기 위한 교육을 처음 \\n받았을 때가 생각난다. 모든 문서는 영어였고 국내에는 도움을 청할 사람은 없었으며 \\n업체에서의 지원은 미비하여 약 3개월을 혼자 밤새워가면서 서비스 아키텍처를 설계\\n하고 구현해야 했다.\\n구글이 자체적으로 사용하던 서비스를 구글 클라우드 플랫폼이라는 이름으로 서비\\n스를 소개한 지 불과 몇 년 지나지 않은 거 같은데 Kubernetes 를 기반으로 하는 \\nContainer  Engine 이나 자체 네트워크를 이용한 데이터센터 연동 등 다른 클라우\\n드 서비스에는 없는 구글만의 장점으로 클라우드 서비스를 만들어 나가고 있다. 이 모습을 보면서 지난 해부터 클라우드를 처음 접하는 사람을 위한 책을 써보고 싶었는데 \\n마침 이런 책을 만들 수 있는 기회가 주어져 매우 기쁜 마음으로 참여하게 되었다. \\n윤성재\\n구글 클라우드 플랫폼의 사용자로서 구글 클라우드에 입문하시고자 하는 사람들을 지면을 통해 만나게 되어 반갑다. 클라우드가 많은 관심을 받고 있지만 국내에서는 아직 낯설\\n은 면이 많이 있다. 이 책을 통해 구글 클라우드를 시작하시는 사람들에게 조금이나마 도\\n움이 될 수 있기를 희망한다. 구글 클라우드를 사용하는 데 어려움이 있다면 언제든지 연\\n락 바라고 작성된 글에 대한 피드백을 주면 반영하여 계속 보완해보록 하겠다.\\n김영균들어가며\\n이 책은 구글 클라우드를 처음 사용하는 사람이 가상 머신 (VM) 기반의 클라우드 서비\\n스 기능들을 빠르게 사용할 수 있도록 도울 목적으로 실습 위주로 속도감 있게 구성하\\n였다.'"
      ]
     },
     "execution_count": 95,
     "metadata": {},
     "output_type": "execute_result"
    }
   ],
   "source": [
    "chunks[3]"
   ]
  },
  {
   "cell_type": "code",
   "execution_count": 49,
   "id": "8197ea2c-b4b5-4215-bca7-638815f5bcd2",
   "metadata": {
    "tags": []
   },
   "outputs": [],
   "source": [
    "embeddings = VertexAIEmbeddings(model_name=\"textembedding-gecko-multilingual@latest\")\n",
    "knowledge_base = FAISS.from_texts(chunks, embeddings)"
   ]
  },
  {
   "cell_type": "code",
   "execution_count": 66,
   "id": "d1e21347-a6e5-4b52-997c-9201af88ece3",
   "metadata": {
    "tags": []
   },
   "outputs": [],
   "source": [
    "llm = VertexAI(temperature=0, model_name=\"text-bison-32k\", max_output_tokens=512)\n",
    "prompt_template = \"\"\"Answer the question as precise as possible using the provided context. If the answer is\n",
    "                not contained in the context, say \"answer not available in context\" \\n\\n\n",
    "                Context: \\n {context}?\\n\n",
    "                Question: \\n {question} \\n\n",
    "                Answer:\n",
    "              \"\"\"\n",
    "prompt = PromptTemplate(\n",
    "    template=prompt_template, input_variables=[\"context\", \"question\"]\n",
    ")"
   ]
  },
  {
   "cell_type": "code",
   "execution_count": 96,
   "id": "66d6d4f9-24ec-422b-8f82-a0d4a1031051",
   "metadata": {
    "tags": []
   },
   "outputs": [
    {
     "name": "stdout",
     "output_type": "stream",
     "text": [
      " InnoDB\n"
     ]
    }
   ],
   "source": [
    "user_question=\"mysql 5.5 의 내부엔진은 뭐야?\"\n",
    "docs = knowledge_base.similarity_search(user_question)\n",
    "chain = load_qa_chain(llm, chain_type=\"stuff\", prompt=prompt)\n",
    "response = chain.run(input_documents=docs, question=user_question)\n",
    "print(response)"
   ]
  },
  {
   "cell_type": "code",
   "execution_count": null,
   "id": "4edfb025-a65c-4d1e-b347-f997bc4c5882",
   "metadata": {},
   "outputs": [],
   "source": []
  }
 ],
 "metadata": {
  "kernelspec": {
   "display_name": "Python 3 (ipykernel)",
   "language": "python",
   "name": "python3"
  },
  "language_info": {
   "codemirror_mode": {
    "name": "ipython",
    "version": 3
   },
   "file_extension": ".py",
   "mimetype": "text/x-python",
   "name": "python",
   "nbconvert_exporter": "python",
   "pygments_lexer": "ipython3",
   "version": "3.11.5"
  }
 },
 "nbformat": 4,
 "nbformat_minor": 5
}
